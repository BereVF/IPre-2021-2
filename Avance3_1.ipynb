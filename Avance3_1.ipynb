{
 "cells": [
  {
   "cell_type": "code",
   "execution_count": 3,
   "metadata": {},
   "outputs": [],
   "source": [
    "import pandas as pd\n",
    "from geopy.geocoders import Nominatim\n",
    "#Importación del módulo csv que necesitaremos para leer y escribir en nuestros csv\n",
    "import csv\n",
    "#Importación del módulo shutil que usaremos para crear una copia de nuestro csv original\n",
    "import shutil\n",
    "import geopandas as gpd\n",
    "import matplotlib.pyplot as plt\n",
    "import networkx as nx\n",
    "import osmnx as ox\n",
    "import pyrematch as re\n",
    "from shapely.geometry import shape\n",
    "import numpy as np\n",
    "import networkx as nx\n",
    "from time import time \n",
    "from pyproj import CRS\n",
    "from collections import OrderedDict\n",
    "import operator\n",
    "from functools import reduce\n"
   ]
  },
  {
   "cell_type": "markdown",
   "metadata": {},
   "source": [
    "# Insertar costos a los arcos de Santiago"
   ]
  },
  {
   "cell_type": "markdown",
   "metadata": {},
   "source": [
    "**Creamos el grafo de Santiago**"
   ]
  },
  {
   "cell_type": "code",
   "execution_count": 4,
   "metadata": {},
   "outputs": [],
   "source": [
    "place_name = \"Provincia de Santiago, Región Metropolitana de Santiago, Chile\"\n",
    "graph = ox.graph_from_place(place_name, network_type = \"drive\", simplify = False)"
   ]
  },
  {
   "cell_type": "code",
   "execution_count": 5,
   "metadata": {},
   "outputs": [
    {
     "data": {
      "text/plain": [
       "<networkx.classes.multidigraph.MultiDiGraph at 0x1601e74d088>"
      ]
     },
     "execution_count": 5,
     "metadata": {},
     "output_type": "execute_result"
    }
   ],
   "source": [
    "ox.speed.add_edge_speeds(graph, hwy_speeds=None, fallback=None, precision=1)"
   ]
  },
  {
   "cell_type": "markdown",
   "metadata": {},
   "source": [
    "**Obtenemos los df de nodos y arcos**"
   ]
  },
  {
   "cell_type": "code",
   "execution_count": 6,
   "metadata": {},
   "outputs": [],
   "source": [
    "nodes, edges = ox.graph_to_gdfs(graph)"
   ]
  },
  {
   "cell_type": "code",
   "execution_count": 7,
   "metadata": {},
   "outputs": [
    {
     "name": "stdout",
     "output_type": "stream",
     "text": [
      "386131\n",
      "386132\n",
      "386138\n",
      "386138\n",
      "386139\n",
      "386139\n"
     ]
    },
    {
     "data": {
      "text/html": [
       "<div>\n",
       "<style scoped>\n",
       "    .dataframe tbody tr th:only-of-type {\n",
       "        vertical-align: middle;\n",
       "    }\n",
       "\n",
       "    .dataframe tbody tr th {\n",
       "        vertical-align: top;\n",
       "    }\n",
       "\n",
       "    .dataframe thead th {\n",
       "        text-align: right;\n",
       "    }\n",
       "</style>\n",
       "<table border=\"1\" class=\"dataframe\">\n",
       "  <thead>\n",
       "    <tr style=\"text-align: right;\">\n",
       "      <th></th>\n",
       "      <th>osmid</th>\n",
       "      <th>oneway</th>\n",
       "      <th>lanes</th>\n",
       "      <th>name</th>\n",
       "      <th>highway</th>\n",
       "      <th>length</th>\n",
       "      <th>speed_kph</th>\n",
       "      <th>access</th>\n",
       "      <th>maxspeed</th>\n",
       "      <th>bridge</th>\n",
       "      <th>tunnel</th>\n",
       "      <th>ref</th>\n",
       "      <th>junction</th>\n",
       "      <th>width</th>\n",
       "      <th>service</th>\n",
       "      <th>landuse</th>\n",
       "      <th>geometry</th>\n",
       "      <th>u</th>\n",
       "      <th>v</th>\n",
       "      <th>key</th>\n",
       "    </tr>\n",
       "  </thead>\n",
       "  <tbody>\n",
       "    <tr>\n",
       "      <th>0</th>\n",
       "      <td>121815695</td>\n",
       "      <td>True</td>\n",
       "      <td>4</td>\n",
       "      <td>Avenida Libertador Bernardo O'Higgins</td>\n",
       "      <td>primary</td>\n",
       "      <td>53.246</td>\n",
       "      <td>52.5</td>\n",
       "      <td>NaN</td>\n",
       "      <td>NaN</td>\n",
       "      <td>NaN</td>\n",
       "      <td>NaN</td>\n",
       "      <td>NaN</td>\n",
       "      <td>NaN</td>\n",
       "      <td>NaN</td>\n",
       "      <td>NaN</td>\n",
       "      <td>NaN</td>\n",
       "      <td>LINESTRING (-70.64237 -33.44155, -70.64192 -33...</td>\n",
       "      <td>386131</td>\n",
       "      <td>252521298</td>\n",
       "      <td>0</td>\n",
       "    </tr>\n",
       "    <tr>\n",
       "      <th>1</th>\n",
       "      <td>121815695</td>\n",
       "      <td>True</td>\n",
       "      <td>4</td>\n",
       "      <td>Avenida Libertador Bernardo O'Higgins</td>\n",
       "      <td>primary</td>\n",
       "      <td>20.476</td>\n",
       "      <td>52.5</td>\n",
       "      <td>NaN</td>\n",
       "      <td>NaN</td>\n",
       "      <td>NaN</td>\n",
       "      <td>NaN</td>\n",
       "      <td>NaN</td>\n",
       "      <td>NaN</td>\n",
       "      <td>NaN</td>\n",
       "      <td>NaN</td>\n",
       "      <td>NaN</td>\n",
       "      <td>LINESTRING (-70.64325 -33.44205, -70.64305 -33...</td>\n",
       "      <td>386132</td>\n",
       "      <td>252521312</td>\n",
       "      <td>0</td>\n",
       "    </tr>\n",
       "    <tr>\n",
       "      <th>2</th>\n",
       "      <td>121815664</td>\n",
       "      <td>True</td>\n",
       "      <td>NaN</td>\n",
       "      <td>Enrique Mac Iver</td>\n",
       "      <td>primary</td>\n",
       "      <td>16.056</td>\n",
       "      <td>52.5</td>\n",
       "      <td>NaN</td>\n",
       "      <td>NaN</td>\n",
       "      <td>NaN</td>\n",
       "      <td>NaN</td>\n",
       "      <td>NaN</td>\n",
       "      <td>NaN</td>\n",
       "      <td>NaN</td>\n",
       "      <td>NaN</td>\n",
       "      <td>NaN</td>\n",
       "      <td>LINESTRING (-70.64625 -33.44290, -70.64628 -33...</td>\n",
       "      <td>386138</td>\n",
       "      <td>14805063</td>\n",
       "      <td>0</td>\n",
       "    </tr>\n",
       "    <tr>\n",
       "      <th>3</th>\n",
       "      <td>121815695</td>\n",
       "      <td>True</td>\n",
       "      <td>4</td>\n",
       "      <td>Avenida Libertador Bernardo O'Higgins</td>\n",
       "      <td>primary</td>\n",
       "      <td>45.325</td>\n",
       "      <td>52.5</td>\n",
       "      <td>NaN</td>\n",
       "      <td>NaN</td>\n",
       "      <td>NaN</td>\n",
       "      <td>NaN</td>\n",
       "      <td>NaN</td>\n",
       "      <td>NaN</td>\n",
       "      <td>NaN</td>\n",
       "      <td>NaN</td>\n",
       "      <td>NaN</td>\n",
       "      <td>LINESTRING (-70.64625 -33.44290, -70.64578 -33...</td>\n",
       "      <td>386138</td>\n",
       "      <td>500862146</td>\n",
       "      <td>0</td>\n",
       "    </tr>\n",
       "    <tr>\n",
       "      <th>4</th>\n",
       "      <td>23321898</td>\n",
       "      <td>True</td>\n",
       "      <td>2</td>\n",
       "      <td>San Francisco</td>\n",
       "      <td>secondary</td>\n",
       "      <td>16.502</td>\n",
       "      <td>49.1</td>\n",
       "      <td>NaN</td>\n",
       "      <td>NaN</td>\n",
       "      <td>NaN</td>\n",
       "      <td>NaN</td>\n",
       "      <td>NaN</td>\n",
       "      <td>NaN</td>\n",
       "      <td>NaN</td>\n",
       "      <td>NaN</td>\n",
       "      <td>NaN</td>\n",
       "      <td>LINESTRING (-70.64729 -33.44314, -70.64715 -33...</td>\n",
       "      <td>386139</td>\n",
       "      <td>6629836903</td>\n",
       "      <td>0</td>\n",
       "    </tr>\n",
       "    <tr>\n",
       "      <th>5</th>\n",
       "      <td>926197834</td>\n",
       "      <td>True</td>\n",
       "      <td>4</td>\n",
       "      <td>Avenida Libertador Bernardo O'Higgins</td>\n",
       "      <td>primary</td>\n",
       "      <td>100.015</td>\n",
       "      <td>52.5</td>\n",
       "      <td>NaN</td>\n",
       "      <td>NaN</td>\n",
       "      <td>NaN</td>\n",
       "      <td>NaN</td>\n",
       "      <td>NaN</td>\n",
       "      <td>NaN</td>\n",
       "      <td>NaN</td>\n",
       "      <td>NaN</td>\n",
       "      <td>NaN</td>\n",
       "      <td>LINESTRING (-70.64729 -33.44314, -70.64625 -33...</td>\n",
       "      <td>386139</td>\n",
       "      <td>386138</td>\n",
       "      <td>0</td>\n",
       "    </tr>\n",
       "    <tr>\n",
       "      <th>6</th>\n",
       "      <td>407593363</td>\n",
       "      <td>True</td>\n",
       "      <td>3</td>\n",
       "      <td>Avenida Libertador Bernardo O'Higgins</td>\n",
       "      <td>primary</td>\n",
       "      <td>61.410</td>\n",
       "      <td>52.5</td>\n",
       "      <td>NaN</td>\n",
       "      <td>NaN</td>\n",
       "      <td>NaN</td>\n",
       "      <td>NaN</td>\n",
       "      <td>NaN</td>\n",
       "      <td>NaN</td>\n",
       "      <td>NaN</td>\n",
       "      <td>NaN</td>\n",
       "      <td>NaN</td>\n",
       "      <td>LINESTRING (-70.64764 -33.44307, -70.64828 -33...</td>\n",
       "      <td>386140</td>\n",
       "      <td>4439790028</td>\n",
       "      <td>0</td>\n",
       "    </tr>\n",
       "    <tr>\n",
       "      <th>7</th>\n",
       "      <td>407593364</td>\n",
       "      <td>True</td>\n",
       "      <td>NaN</td>\n",
       "      <td>San Antonio</td>\n",
       "      <td>secondary</td>\n",
       "      <td>15.720</td>\n",
       "      <td>49.1</td>\n",
       "      <td>NaN</td>\n",
       "      <td>NaN</td>\n",
       "      <td>NaN</td>\n",
       "      <td>NaN</td>\n",
       "      <td>NaN</td>\n",
       "      <td>NaN</td>\n",
       "      <td>NaN</td>\n",
       "      <td>NaN</td>\n",
       "      <td>NaN</td>\n",
       "      <td>LINESTRING (-70.64764 -33.44307, -70.64761 -33...</td>\n",
       "      <td>386140</td>\n",
       "      <td>500862085</td>\n",
       "      <td>0</td>\n",
       "    </tr>\n",
       "    <tr>\n",
       "      <th>8</th>\n",
       "      <td>407593363</td>\n",
       "      <td>True</td>\n",
       "      <td>3</td>\n",
       "      <td>Avenida Libertador Bernardo O'Higgins</td>\n",
       "      <td>primary</td>\n",
       "      <td>8.648</td>\n",
       "      <td>52.5</td>\n",
       "      <td>NaN</td>\n",
       "      <td>NaN</td>\n",
       "      <td>NaN</td>\n",
       "      <td>NaN</td>\n",
       "      <td>NaN</td>\n",
       "      <td>NaN</td>\n",
       "      <td>NaN</td>\n",
       "      <td>NaN</td>\n",
       "      <td>NaN</td>\n",
       "      <td>LINESTRING (-70.64898 -33.44339, -70.64907 -33...</td>\n",
       "      <td>386145</td>\n",
       "      <td>7569146928</td>\n",
       "      <td>0</td>\n",
       "    </tr>\n",
       "    <tr>\n",
       "      <th>9</th>\n",
       "      <td>448518898</td>\n",
       "      <td>False</td>\n",
       "      <td>NaN</td>\n",
       "      <td>NaN</td>\n",
       "      <td>primary_link</td>\n",
       "      <td>16.654</td>\n",
       "      <td>35.0</td>\n",
       "      <td>NaN</td>\n",
       "      <td>NaN</td>\n",
       "      <td>NaN</td>\n",
       "      <td>NaN</td>\n",
       "      <td>NaN</td>\n",
       "      <td>NaN</td>\n",
       "      <td>NaN</td>\n",
       "      <td>NaN</td>\n",
       "      <td>NaN</td>\n",
       "      <td>LINESTRING (-70.64898 -33.44339, -70.64896 -33...</td>\n",
       "      <td>386145</td>\n",
       "      <td>646864662</td>\n",
       "      <td>0</td>\n",
       "    </tr>\n",
       "  </tbody>\n",
       "</table>\n",
       "</div>"
      ],
      "text/plain": [
       "       osmid  oneway lanes                                   name  \\\n",
       "0  121815695    True     4  Avenida Libertador Bernardo O'Higgins   \n",
       "1  121815695    True     4  Avenida Libertador Bernardo O'Higgins   \n",
       "2  121815664    True   NaN                       Enrique Mac Iver   \n",
       "3  121815695    True     4  Avenida Libertador Bernardo O'Higgins   \n",
       "4   23321898    True     2                          San Francisco   \n",
       "5  926197834    True     4  Avenida Libertador Bernardo O'Higgins   \n",
       "6  407593363    True     3  Avenida Libertador Bernardo O'Higgins   \n",
       "7  407593364    True   NaN                            San Antonio   \n",
       "8  407593363    True     3  Avenida Libertador Bernardo O'Higgins   \n",
       "9  448518898   False   NaN                                    NaN   \n",
       "\n",
       "        highway   length  speed_kph access maxspeed bridge tunnel  ref  \\\n",
       "0       primary   53.246       52.5    NaN      NaN    NaN    NaN  NaN   \n",
       "1       primary   20.476       52.5    NaN      NaN    NaN    NaN  NaN   \n",
       "2       primary   16.056       52.5    NaN      NaN    NaN    NaN  NaN   \n",
       "3       primary   45.325       52.5    NaN      NaN    NaN    NaN  NaN   \n",
       "4     secondary   16.502       49.1    NaN      NaN    NaN    NaN  NaN   \n",
       "5       primary  100.015       52.5    NaN      NaN    NaN    NaN  NaN   \n",
       "6       primary   61.410       52.5    NaN      NaN    NaN    NaN  NaN   \n",
       "7     secondary   15.720       49.1    NaN      NaN    NaN    NaN  NaN   \n",
       "8       primary    8.648       52.5    NaN      NaN    NaN    NaN  NaN   \n",
       "9  primary_link   16.654       35.0    NaN      NaN    NaN    NaN  NaN   \n",
       "\n",
       "  junction width service landuse  \\\n",
       "0      NaN   NaN     NaN     NaN   \n",
       "1      NaN   NaN     NaN     NaN   \n",
       "2      NaN   NaN     NaN     NaN   \n",
       "3      NaN   NaN     NaN     NaN   \n",
       "4      NaN   NaN     NaN     NaN   \n",
       "5      NaN   NaN     NaN     NaN   \n",
       "6      NaN   NaN     NaN     NaN   \n",
       "7      NaN   NaN     NaN     NaN   \n",
       "8      NaN   NaN     NaN     NaN   \n",
       "9      NaN   NaN     NaN     NaN   \n",
       "\n",
       "                                            geometry       u           v  key  \n",
       "0  LINESTRING (-70.64237 -33.44155, -70.64192 -33...  386131   252521298    0  \n",
       "1  LINESTRING (-70.64325 -33.44205, -70.64305 -33...  386132   252521312    0  \n",
       "2  LINESTRING (-70.64625 -33.44290, -70.64628 -33...  386138    14805063    0  \n",
       "3  LINESTRING (-70.64625 -33.44290, -70.64578 -33...  386138   500862146    0  \n",
       "4  LINESTRING (-70.64729 -33.44314, -70.64715 -33...  386139  6629836903    0  \n",
       "5  LINESTRING (-70.64729 -33.44314, -70.64625 -33...  386139      386138    0  \n",
       "6  LINESTRING (-70.64764 -33.44307, -70.64828 -33...  386140  4439790028    0  \n",
       "7  LINESTRING (-70.64764 -33.44307, -70.64761 -33...  386140   500862085    0  \n",
       "8  LINESTRING (-70.64898 -33.44339, -70.64907 -33...  386145  7569146928    0  \n",
       "9  LINESTRING (-70.64898 -33.44339, -70.64896 -33...  386145   646864662    0  "
      ]
     },
     "execution_count": 7,
     "metadata": {},
     "output_type": "execute_result"
    }
   ],
   "source": [
    "contador = 0\n",
    "\n",
    "while contador < 6:\n",
    "    for n in edges.index:\n",
    "        if contador < 6:\n",
    "            print(edges['u'][n])\n",
    "        contador += 1\n",
    "        \n",
    "edges[:10]"
   ]
  },
  {
   "cell_type": "markdown",
   "metadata": {},
   "source": [
    "**Agregamos columna de tiempo de viaje**"
   ]
  },
  {
   "cell_type": "code",
   "execution_count": 8,
   "metadata": {},
   "outputs": [],
   "source": [
    "edges['Tiempos de Viaje'] = 0\n",
    "edges['Tiempos de Viaje'] = edges.apply(lambda x: ((edges['length']/1000)/edges['speed_kph'])) #horas"
   ]
  },
  {
   "cell_type": "markdown",
   "metadata": {},
   "source": [
    "**Creamos función que disminuirá la velocidad  del los arcos, dependiendo de la hora y minuto del día**"
   ]
  },
  {
   "cell_type": "markdown",
   "metadata": {},
   "source": [
    "**Funciones que servirán para dar efecto congestión**"
   ]
  },
  {
   "cell_type": "code",
   "execution_count": 9,
   "metadata": {},
   "outputs": [],
   "source": [
    "def interpolacion_lineal(x,x1,x2,y1,y2):\n",
    "    y = ((y2-y1)/(x2-x1))*(x-x1)+y1\n",
    "    return(y)"
   ]
  },
  {
   "cell_type": "code",
   "execution_count": 10,
   "metadata": {},
   "outputs": [],
   "source": [
    "def interpolacion_cuadratica(x, fx):\n",
    "    b0 = fx[0]\n",
    "    b1 = (fx[1]-fx[0])/(x[1]-x[0])\n",
    "    b2 = (((fx[2]-fx[1])/(x[2]-x[1]))-((fx[1]-fx[0])/(x[1]-x[0])))/(x[2]-x[0])\n",
    "    f2 = b0+b1*(x[3]-x[0])+b2*(x[3]-x[0])*(x[3]-x[1])\n",
    "    return(f2)"
   ]
  },
  {
   "cell_type": "markdown",
   "metadata": {},
   "source": [
    "**Función tiempo final aplicada a la red**"
   ]
  },
  {
   "cell_type": "code",
   "execution_count": 11,
   "metadata": {},
   "outputs": [],
   "source": [
    "def actualizar_tiempo(x, y, mes, hora, minutos): #x es velocidad e y es distancia\n",
    "    y = y/1000\n",
    "    dic_dism = {1:[(20.19/43.15),((20.19+14.09)/43.15),(18.51/43.15)],2:[(21.03/43.15),((21.03+14.09)/43.15),(19.14/43.15)], 3:[(16.89/43.15),((16.89+14.09)/43.15),(17.39/43.15)], 4:[(16.93/43.15),((16.93+14.09)/43.15),(17.38/43.15)], 5:[(17.19/43.15),((17.19+14.09)/43.15),(17.17/43.15)], 6:[(17.34/43.15),((17.34+14.09)/43.15),(17.08/43.15)], 7:[(18.46/43.15),((18.46+14.09)/43.15),(17.21/43.15)], 8:[(16.76/43.15),((16.76+14.09)/43.15),(16.94/43.15)], 9:[(17.15/43.15),((17.15+14.09)/43.15),(17.24/43.15)], 10:[(16.78/43.15),((16.78+14.09)/43.15),(17.02/43.15)], 11:[(16.57/43.15),((16.57+14.09)/43.15),(17.03/43.15)], 12:[(18.11/43.15),((18.11+14.09)/43.15),(17.13/43.15)]}\n",
    "    #Punta mañana [0], Valle [1], Punta Tarde [2]\n",
    "    if ((7 <= hora <= 8) and (0 <= minutos <= 59)):\n",
    "        x = interpolacion_cuadratica([5, 8, 10.5, (hora+(minutos/60))], [x, x*dic_dism[mes][0], interpolacion_lineal(10.5,8,13.5,x*dic_dism[mes][0],x*dic_dism[mes][1])])\n",
    "    elif ((9 <= hora <= 17) and (0 <= minutos <= 59)):\n",
    "        x = interpolacion_cuadratica([10.5, 13.5, 16.25,(hora +(minutos/60))],[interpolacion_lineal(10.5,8,13.5,x*dic_dism[mes][0],x*dic_dism[mes][1]),x*dic_dism[mes][1], interpolacion_lineal(16.25,13.5,19,x*dic_dism[mes][1],x*dic_dism[mes][2])])\n",
    "    elif ((18 <= hora <= 19) and (0 <= minutos <= 59)):\n",
    "        x = interpolacion_cuadratica([16.25, 19, 22, (hora+(minutos/60))],[interpolacion_lineal(16.25,13.5,19,x*dic_dism[mes][1],x*dic_dism[mes][2]),x*dic_dism[mes][2],x])\n",
    "    return (y/x) #horas"
   ]
  },
  {
   "cell_type": "markdown",
   "metadata": {},
   "source": [
    "**Ahora probamos la función para los diferentes horarios**"
   ]
  },
  {
   "cell_type": "markdown",
   "metadata": {},
   "source": [
    "00:03 hrs."
   ]
  },
  {
   "cell_type": "code",
   "execution_count": 12,
   "metadata": {},
   "outputs": [],
   "source": [
    "#nodes, edges = ox.graph_to_gdfs(graph)"
   ]
  },
  {
   "cell_type": "code",
   "execution_count": 13,
   "metadata": {},
   "outputs": [],
   "source": [
    "#actualizar_tiempo(x, y, mes, hora, minutos)\n",
    "#edges['Tiempo de Viaje'][10:20]"
   ]
  },
  {
   "cell_type": "markdown",
   "metadata": {},
   "source": [
    "8:33 hrs."
   ]
  },
  {
   "cell_type": "code",
   "execution_count": 14,
   "metadata": {},
   "outputs": [],
   "source": [
    "#nodes, edges = ox.graph_to_gdfs(graph)"
   ]
  },
  {
   "cell_type": "code",
   "execution_count": 15,
   "metadata": {},
   "outputs": [],
   "source": [
    "#actualizar_tiempo(x, y, mes, hora, minutos)\n",
    "#edges['Tiempo de Viaje'][10:20]"
   ]
  },
  {
   "cell_type": "markdown",
   "metadata": {},
   "source": [
    "10:32 hrs."
   ]
  },
  {
   "cell_type": "code",
   "execution_count": 16,
   "metadata": {},
   "outputs": [],
   "source": [
    "#nodes, edges = ox.graph_to_gdfs(graph)"
   ]
  },
  {
   "cell_type": "code",
   "execution_count": 17,
   "metadata": {},
   "outputs": [],
   "source": [
    "#actualizar_tiempo(x, y, mes, hora, minutos)\n",
    "#edges['Tiempo de Viaje'][10:20]"
   ]
  },
  {
   "cell_type": "markdown",
   "metadata": {},
   "source": [
    "13:00 hrs."
   ]
  },
  {
   "cell_type": "code",
   "execution_count": 18,
   "metadata": {},
   "outputs": [],
   "source": [
    "#nodes, edges = ox.graph_to_gdfs(graph)"
   ]
  },
  {
   "cell_type": "code",
   "execution_count": 19,
   "metadata": {},
   "outputs": [],
   "source": [
    "#actualizar_tiempo(x, y, mes, hora, minutos)\n",
    "#edges['Tiempo de Viaje'][10:20]"
   ]
  },
  {
   "cell_type": "markdown",
   "metadata": {},
   "source": [
    "13:30 hrs."
   ]
  },
  {
   "cell_type": "code",
   "execution_count": 20,
   "metadata": {},
   "outputs": [],
   "source": [
    "#nodes, edges = ox.graph_to_gdfs(graph)"
   ]
  },
  {
   "cell_type": "code",
   "execution_count": 21,
   "metadata": {},
   "outputs": [],
   "source": [
    "#actualizar_tiempo(x, y, mes, hora, minutos)\n",
    "#edges['Tiempo de Viaje'][10:20]"
   ]
  },
  {
   "cell_type": "markdown",
   "metadata": {},
   "source": [
    "18:20 hrs."
   ]
  },
  {
   "cell_type": "code",
   "execution_count": 22,
   "metadata": {},
   "outputs": [],
   "source": [
    "#nodes, edges = ox.graph_to_gdfs(graph)"
   ]
  },
  {
   "cell_type": "code",
   "execution_count": 23,
   "metadata": {},
   "outputs": [],
   "source": [
    "#actualizar_tiempo(x, y, mes, hora, minutos)\n",
    "#edges['Tiempo de Viaje'][10:20]"
   ]
  },
  {
   "cell_type": "markdown",
   "metadata": {},
   "source": [
    "**Función Dijsktra dependiente del tiempo**"
   ]
  },
  {
   "cell_type": "code",
   "execution_count": 24,
   "metadata": {},
   "outputs": [],
   "source": [
    "def dijkstra_tiempo(graph, src, dest, mes, hora, minutos, visited=[], times={}, predecessors={}):\n",
    "    \n",
    "    \"\"\" calculates a shortest path tree routed in src\n",
    "    \"\"\"    \n",
    "    #print('ENTRO A LA FUNCION------------------')\n",
    "    if src == dest:\n",
    "        #print('LLEGÓ AL DESTINO------------------')\n",
    "        # We build the shortest path and display it\n",
    "        path=[]\n",
    "        pred=dest\n",
    "        while pred != None:\n",
    "            path.append(pred)\n",
    "            pred=predecessors.get(pred,None)\n",
    "        # reverses the array, to display the path nicely\n",
    "        readable=path[0]\n",
    "        #for index in range(1,len(path)): \n",
    "         #   readable = path[index],'--->',readable\n",
    "        #prints it \n",
    "        #print(\"path: \",readable,\",   cost=\", str(times[dest]))\n",
    "        return(path, times[dest])\n",
    "        \n",
    "    else : \n",
    "        #print('AUN NO LLEGA AL DESTINO------------------')\n",
    "        # if it is the initial  run, initializes the cost\n",
    "        if not visited: \n",
    "            times[src] = 0\n",
    "        # visit the neighbors\n",
    "        #Actualizar tiempos\n",
    "        for neighbor in graph[src] :\n",
    "            if neighbor not in visited:\n",
    "                #print('VECINO VISITADO------------------', neighbor)\n",
    "                x = graph[src][neighbor][0]['speed_kph']\n",
    "                y = graph[src][neighbor][0]['length']\n",
    "                act_time = actualizar_tiempo(x, y, mes, hora, minutos) #horas\n",
    "                new_time = times[src] + act_time # tiempo acumulado en horas\n",
    "                if new_time < times.get(neighbor,float('inf')):\n",
    "                    times[neighbor] = new_time\n",
    "                    predecessors[neighbor] = src\n",
    "        #print('YA VISITÓ A TODOS LOS VECINOS DE------------------', src)\n",
    "        # mark as visited\n",
    "        visited.append(src)\n",
    "        # now that all neighbors have been visited: recurse                         \n",
    "        # select the non visited node with lowest distance 'x'\n",
    "        # run Dijskstra with src='x'\n",
    "        unvisited={}\n",
    "        for k in graph:\n",
    "            if k not in visited:\n",
    "                unvisited[k] = times.get(k,float('inf'))        \n",
    "        nodo_actual = min(unvisited, key=unvisited.get) ## AQUI OCUPAR HEAP\n",
    "        #print('CAMBIÓ DE NODO, AHORA ESTÁ EN------------------', nodo_actual)\n",
    "        return dijkstra_tiempo(graph, nodo_actual, dest, mes, hora, minutos, visited, times, predecessors)        "
   ]
  },
  {
   "cell_type": "code",
   "execution_count": 25,
   "metadata": {},
   "outputs": [],
   "source": [
    "from collections import defaultdict\n",
    "from heapq import *\n",
    "\n",
    "def dijkstra(edges, orig, dest,  mes, hora, minutos): # f: inicio | t: destino\n",
    "    g = defaultdict(list) # diccionario de lista?\n",
    "    \n",
    "    for n in edges.index:\n",
    "        x = edges['speed_kph'][n]\n",
    "        y = edges['length'][n]\n",
    "        act_time = actualizar_tiempo(x, y, mes, hora, minutos)\n",
    "        edges['Tiempos de Viaje'][n] = act_time\n",
    "        g[edges['u'][n]].append((act_time, edges['v'][n])) # para cada par de nodos, agregar al dicc la tupla de (nodo alcanzado, dist)\n",
    "    \n",
    "    q, seen, mins = [(0,orig,())], set(), {orig: 0} # q: no vistos | seen: vistos | mins: mínimos?\n",
    "    while q:\n",
    "        (cost,v1,path) = heappop(q) # mientras q no esté vacío\n",
    "        if v1 not in seen: # si v1 no está en vistos\n",
    "            seen.add(v1) # añador a los vistos\n",
    "            path = (v1, path) \n",
    "            if v1 == dest: \n",
    "                return (cost, path) # si es el destino\n",
    "                \n",
    "\n",
    "            for c, v2 in g.get(v1, ()): # obtengo los nodos alcanzados por v1 (costo, nodo_alc)\n",
    "                if v2 in seen: continue # si v2 está en vistos\n",
    "                prev = mins.get(v2, None) # obteneer el mínimo de ese nodo\n",
    "                next = cost + c # le suma el costo?\n",
    "                if prev is None or next < prev: # si no hay precedor o next es menor al prev\n",
    "                    mins[v2] = next # mínimo es next\n",
    "                    heappush(q, (next, v2, path)) # se agrega a q\n",
    "\n",
    "    return float(\"inf\"), None"
   ]
  },
  {
   "cell_type": "code",
   "execution_count": 26,
   "metadata": {},
   "outputs": [
    {
     "name": "stderr",
     "output_type": "stream",
     "text": [
      "C:\\Users\\Berenice\\AppData\\Roaming\\Python\\Python37\\site-packages\\ipykernel_launcher.py:11: SettingWithCopyWarning: \n",
      "A value is trying to be set on a copy of a slice from a DataFrame\n",
      "\n",
      "See the caveats in the documentation: https://pandas.pydata.org/pandas-docs/stable/user_guide/indexing.html#returning-a-view-versus-a-copy\n",
      "  # This is added back by InteractiveShellApp.init_path()\n",
      "C:\\Users\\Berenice\\AppData\\Roaming\\Python\\Python37\\site-packages\\ipykernel_launcher.py:1: SettingWithCopyWarning: \n",
      "A value is trying to be set on a copy of a slice from a DataFrame\n",
      "\n",
      "See the caveats in the documentation: https://pandas.pydata.org/pandas-docs/stable/user_guide/indexing.html#returning-a-view-versus-a-copy\n",
      "  \"\"\"Entry point for launching an IPython kernel.\n"
     ]
    },
    {
     "data": {
      "text/plain": [
       "(0.002290768322909714, (252521298, (386131, ())))"
      ]
     },
     "execution_count": 26,
     "metadata": {},
     "output_type": "execute_result"
    }
   ],
   "source": [
    "dijkstra(edges[:10], 386131, 252521298, 6, 7, 30)"
   ]
  },
  {
   "cell_type": "code",
   "execution_count": 27,
   "metadata": {},
   "outputs": [],
   "source": [
    "from collections import defaultdict\n",
    "from heapq import *\n",
    "\n",
    "def dijkstra(edges, f, t): # f: inicio | t: destino\n",
    "    g = defaultdict(list) # diccionario de lista?\n",
    "    \n",
    "    for n in edges.index:\n",
    "        g[edges['u'][n]].append((edges['Tiempos de Viaje'][n], edges['v'][n])) # para cada par de nodos, agregar al dicc la tupla de (nodo alcanzado, dist)\n",
    "\n",
    "    q, seen, mins = [(0,f,())], set(), {f: 0} # q: no vistos | seen: vistos | mins: mínimos?\n",
    "    while q:\n",
    "        \n",
    "        (cost,v1,path) = heappop(q) # mientras q no esté vacío\n",
    "        if v1 not in seen: # si v1 no está en vistos\n",
    "            seen.add(v1) # añador a los vistos\n",
    "            path = (v1, path) \n",
    "            \n",
    "            if v1 == t: \n",
    "                return (cost, path) # si es el destino\n",
    "                \n",
    "            for c, v2 in g.get(v1, ()): # obtengo los nodos alcanzados por v1 (costo, nodo_alc)\n",
    "                if v2 in seen: continue # si v2 está en vistos\n",
    "                prev = mins.get(v2, None) # obteneer el mínimo de ese nodo\n",
    "                next = cost + c # le suma el costo\n",
    "                if prev is None or next < prev: # si no hay precedor o next es menor al prev\n",
    "                    mins[v2] = next # mínimo es next\n",
    "                    heappush(q, (next, v2, path)) # se agrega a q\n",
    "\n",
    "    return float(\"inf\"), None "
   ]
  },
  {
   "cell_type": "code",
   "execution_count": 28,
   "metadata": {
    "scrolled": true
   },
   "outputs": [
    {
     "data": {
      "text/plain": [
       "(0.002290768322909714, (252521298, (386131, ())))"
      ]
     },
     "execution_count": 28,
     "metadata": {},
     "output_type": "execute_result"
    }
   ],
   "source": [
    "dijkstra(edges[:10], 386131, 252521298)"
   ]
  },
  {
   "cell_type": "code",
   "execution_count": 29,
   "metadata": {},
   "outputs": [],
   "source": [
    "def subgrafo(graph, src, dest, k):\n",
    "    k_rutas = ox.distance.k_shortest_paths(graph, src, dest, k, weight='Tiempos de Viaje')\n",
    "    lista_sets = []\n",
    "    for counter, path in enumerate(k_rutas):\n",
    "        lista_sets.append(set(path))\n",
    "        if counter == k-1:\n",
    "             break\n",
    "    nodos = list(reduce(operator.or_, lista_sets))\n",
    "    subgrafo = graph.subgraph(nodos)\n",
    "    return subgrafo"
   ]
  },
  {
   "cell_type": "markdown",
   "metadata": {},
   "source": [
    "**Actualizamos valores de arcos en el grafo de santiago, ahora se llamará G contiene velocidad con congestión**"
   ]
  },
  {
   "cell_type": "code",
   "execution_count": 30,
   "metadata": {},
   "outputs": [],
   "source": [
    "G  = ox.utils_graph.graph_from_gdfs(nodes , edges , graph_attrs = None)"
   ]
  },
  {
   "cell_type": "code",
   "execution_count": 31,
   "metadata": {},
   "outputs": [],
   "source": [
    "nodesG, edgesG = ox.graph_to_gdfs(G)"
   ]
  },
  {
   "cell_type": "markdown",
   "metadata": {},
   "source": [
    "**Ahora podemos calcular la ruta mínima entre dos nodos, bajo cualquier atributo de arco**"
   ]
  },
  {
   "cell_type": "code",
   "execution_count": 32,
   "metadata": {},
   "outputs": [],
   "source": [
    "nodos = pd.read_csv(\"DFNodosCercanos.csv\")"
   ]
  },
  {
   "cell_type": "code",
   "execution_count": 33,
   "metadata": {
    "scrolled": true
   },
   "outputs": [
    {
     "data": {
      "text/plain": [
       "[267454352,\n",
       " 613890784,\n",
       " 3536637293,\n",
       " 4765300244,\n",
       " 376264329,\n",
       " 7326370340,\n",
       " 1260237000,\n",
       " 6104118724,\n",
       " 6993554475,\n",
       " 3485642555,\n",
       " 4789079544,\n",
       " 1552735798]"
      ]
     },
     "execution_count": 33,
     "metadata": {},
     "output_type": "execute_result"
    }
   ],
   "source": [
    "list_id = []\n",
    "for row in nodos.iterrows():\n",
    "    list_id.append(row[1][3])\n",
    "    \n",
    "list_id"
   ]
  },
  {
   "cell_type": "code",
   "execution_count": 34,
   "metadata": {},
   "outputs": [
    {
     "data": {
      "text/plain": [
       "[-70.70682140000001,\n",
       " -70.6805126,\n",
       " -70.6286314,\n",
       " -70.6097452,\n",
       " -70.6809422,\n",
       " -70.727027,\n",
       " -70.7228183,\n",
       " -70.7622699,\n",
       " -70.6991552,\n",
       " -70.76003409999998,\n",
       " -70.71078670000001,\n",
       " -70.7454208]"
      ]
     },
     "execution_count": 34,
     "metadata": {},
     "output_type": "execute_result"
    }
   ],
   "source": [
    "ClientesAprox = pd.read_csv(\"DFNodosCercanos.csv\")\n",
    "direccion_x =[]\n",
    "direccion_y =[]\n",
    "for row in ClientesAprox.iterrows():\n",
    "    direccion_x.append(row[1][1])\n",
    "    direccion_y.append(row[1][2])\n",
    "direccion_x\n",
    "direccion_y"
   ]
  },
  {
   "cell_type": "markdown",
   "metadata": {},
   "source": [
    "**Función que debe ir calculando los costos que difieren del tiempo**\n",
    "\n",
    "(1286.7*(edges[lenght]/1000)) ---------------> Todos los arcos\n",
    "\n",
    "(sumar + 21378) -----------------------------> Arcos salientes del depot"
   ]
  },
  {
   "cell_type": "code",
   "execution_count": 35,
   "metadata": {},
   "outputs": [],
   "source": [
    "def costos_agregados(path):\n",
    "    agregados = 0\n",
    "    for n in range(len(path)-1):\n",
    "        if path[len(path)-1] == 267454352 and agregados == 0:\n",
    "            agregados += 21378\n",
    "        else:\n",
    "            agregados += (1286.7 * graph[path[n+1]][path[n]][0]['length'])/1000\n",
    "    return (agregados)"
   ]
  },
  {
   "cell_type": "code",
   "execution_count": 36,
   "metadata": {
    "scrolled": true
   },
   "outputs": [],
   "source": [
    "# Calculate the shortest path dinamic time\n",
    "def rutas_min_pares(graph, list_id, mes, hora, minutos, k):\n",
    "    tiempo_inicial = time() \n",
    "    dic_rutas = {}\n",
    "    G = ox.utils_graph.graph_from_gdfs(nodes , edges , graph_attrs = None)\n",
    "    for n1 in list_id:\n",
    "        for n2 in list_id:\n",
    "            if n1 != n2 and nx.has_path(G, n1,n2):\n",
    "                subg = subgrafo(graph, n1, n2, k)\n",
    "                path, tiempo = dijkstra_tiempo(subg, n1, n2, mes, hora, minutos, [], {}, {})\n",
    "                costo_agregado = costos_agregados(path)\n",
    "                dic_rutas[(path[0], path[-1])] = [tiempo, costo_agregado]           \n",
    "    tiempo_final = time() \n",
    "    tiempo_ejecucion = tiempo_final - tiempo_inicial\n",
    "    print ('El tiempo de ejecucion en minutos fue:', tiempo_ejecucion/60)\n",
    "    return(dic_rutas)"
   ]
  },
  {
   "cell_type": "code",
   "execution_count": 6,
   "metadata": {},
   "outputs": [
    {
     "ename": "NameError",
     "evalue": "name 'rutas_min_pares' is not defined",
     "output_type": "error",
     "traceback": [
      "\u001b[1;31m---------------------------------------------------------------------------\u001b[0m",
      "\u001b[1;31mNameError\u001b[0m                                 Traceback (most recent call last)",
      "\u001b[1;32m<ipython-input-6-86c6223d8bf6>\u001b[0m in \u001b[0;36m<module>\u001b[1;34m\u001b[0m\n\u001b[1;32m----> 1\u001b[1;33m \u001b[0mdic_rutas\u001b[0m \u001b[1;33m=\u001b[0m \u001b[1;33m(\u001b[0m\u001b[0mrutas_min_pares\u001b[0m\u001b[1;33m(\u001b[0m\u001b[0mgraph\u001b[0m\u001b[1;33m,\u001b[0m \u001b[0mlist_id\u001b[0m\u001b[1;33m,\u001b[0m \u001b[1;36m6\u001b[0m\u001b[1;33m,\u001b[0m \u001b[1;36m9\u001b[0m\u001b[1;33m,\u001b[0m \u001b[1;36m0\u001b[0m\u001b[1;33m,\u001b[0m \u001b[1;36m2\u001b[0m\u001b[1;33m)\u001b[0m\u001b[1;33m)\u001b[0m\u001b[1;33m\u001b[0m\u001b[1;33m\u001b[0m\u001b[0m\n\u001b[0m",
      "\u001b[1;31mNameError\u001b[0m: name 'rutas_min_pares' is not defined"
     ]
    }
   ],
   "source": [
    "dic_rutas = (rutas_min_pares(graph, list_id, 6, 9, 0, 2))"
   ]
  },
  {
   "cell_type": "code",
   "execution_count": null,
   "metadata": {},
   "outputs": [],
   "source": [
    "### DIJKSTRA_tIEMPO CON HEAP"
   ]
  },
  {
   "cell_type": "code",
   "execution_count": 3,
   "metadata": {},
   "outputs": [],
   "source": [
    "from heapq import *\n",
    "def dijkstra_tiempo(graph, src, dest, mes, hora, minutos, visited=set(), times={}, predecessors={}):\n",
    "    \n",
    "    \"\"\" calculates a shortest path tree routed in src\n",
    "    \"\"\"    \n",
    "    if src == dest:\n",
    "        #print('LLEGÓ AL DESTINO------------------')\n",
    "        # We build the shortest path and display it\n",
    "        path=[]\n",
    "        pred=dest\n",
    "        while pred != None:\n",
    "            path.append(pred)\n",
    "            pred=predecessors.get(pred,None)\n",
    "        # reverses the array, to display the path nicely\n",
    "        readable=path[0]\n",
    "\n",
    "        return(path, times[dest])\n",
    "        \n",
    "    else : \n",
    "        # if it is the initial  run, initializes the cost\n",
    "        if not visited: \n",
    "            times[src] = 0\n",
    "            \n",
    "        \n",
    "        for neighbor in graph[src] :\n",
    "            if neighbor not in visited:\n",
    "                x = graph[src][neighbor][0]['speed_kph']\n",
    "                y = graph[src][neighbor][0]['length']\n",
    "                act_time = actualizar_tiempo(x, y, mes, hora, minutos) #horas\n",
    "                new_time = times[src] + act_time # tiempo acumulado en horas\n",
    "                if new_time < times.get(neighbor,float('inf')):\n",
    "                    times[neighbor] = new_time\n",
    "                    predecessors[neighbor] = src\n",
    "\n",
    "        visited.add(src)\n",
    "        unvisited=[]\n",
    "        \n",
    "        for k in graph:\n",
    "            if k not in visited:\n",
    "                heappush(unvisited, (times.get(k, float('inf')), k))   \n",
    "\n",
    "        nodo_actual = heappop(unvisited)[1] \n",
    "        return dijkstra(graph, nodo_actual, dest, mes, hora, minutos, visited, times, predecessors)"
   ]
  },
  {
   "cell_type": "code",
   "execution_count": null,
   "metadata": {},
   "outputs": [],
   "source": [
    "dic_rutas_h = (rutas_min_pares(G, list_id, 6, 9, 0, 1))"
   ]
  },
  {
   "cell_type": "code",
   "execution_count": null,
   "metadata": {},
   "outputs": [],
   "source": [
    "print(dic_rutas)"
   ]
  },
  {
   "cell_type": "markdown",
   "metadata": {},
   "source": [
    "# -----------------------------------------------------------------------------------------------------"
   ]
  },
  {
   "cell_type": "code",
   "execution_count": null,
   "metadata": {},
   "outputs": [],
   "source": [
    "\"\"\"# Necesitamos ahora, crear la estructura de grafo sin calles con los costos reales en los arcos entre cada par o-d\n",
    "#Se importa la libreria networkx como nx\n",
    "\n",
    "import networkx as nx\n",
    "\n",
    "#Se importa la libreria pyplot de matplotlib como plt\n",
    "\n",
    "import matplotlib.pyplot as plt\n",
    "\n",
    "#Se crea un grafo asimétrico vacio\n",
    "\n",
    "G = nx.DiGraph()\n",
    "\n",
    "#Se crean los nodos:\n",
    "\n",
    "#Se crean los nodos depot + clientes\n",
    "\n",
    "G.add_nodes_from(list_id)\n",
    "\n",
    "#Se crean los arcos entre los nodos\n",
    "for a in dic_rutas:\n",
    "    G.add_edge(a[0], a[1])\n",
    "    G.edges[(a[0], a[1])]['Costo']= dic_rutas[a]\n",
    "for n in G.nodes:\n",
    "    if n == 267454352:\n",
    "        G.nodes[n]['Depot'] = True\n",
    "    else:\n",
    "        G.nodes[n]['Depot'] = False\n",
    "    \n",
    "#Se dibuja el grafo\n",
    "\n",
    "nx.draw(G, node_size = 12, font_size=1)\n",
    "\n",
    "#Se muestra en pantalla\n",
    "\n",
    "plt.show()\"\"\"\n",
    "\n"
   ]
  },
  {
   "cell_type": "code",
   "execution_count": null,
   "metadata": {},
   "outputs": [],
   "source": [
    "\"\"\"G.nodes\"\"\""
   ]
  },
  {
   "cell_type": "code",
   "execution_count": null,
   "metadata": {},
   "outputs": [],
   "source": [
    "\"\"\"G.edges\"\"\""
   ]
  },
  {
   "cell_type": "code",
   "execution_count": null,
   "metadata": {},
   "outputs": [],
   "source": [
    "\"\"\"G.edges[(3485642555, 4765300244)]\"\"\""
   ]
  },
  {
   "cell_type": "code",
   "execution_count": null,
   "metadata": {},
   "outputs": [],
   "source": [
    "\"\"\"G.nodes[613890784]\"\"\""
   ]
  },
  {
   "cell_type": "markdown",
   "metadata": {},
   "source": [
    "# Creación de datos"
   ]
  },
  {
   "cell_type": "code",
   "execution_count": null,
   "metadata": {},
   "outputs": [],
   "source": [
    "\"\"\"n = list_id.copy()# Clientes\n",
    "camiones = [k for k in range (1,4)]\n",
    "list_id.remove(267454352)\n",
    "clientes = list_id\n",
    "u={1: 5500, 2:5500, 3:5500}\n",
    "\n",
    "import numpy as np\n",
    "rnd=np.random\n",
    "rnd.seed(0)\n",
    "\n",
    "q={i:rnd.randint(500, 1000) for i in clientes}\"\"\""
   ]
  },
  {
   "cell_type": "code",
   "execution_count": null,
   "metadata": {},
   "outputs": [],
   "source": [
    "\"\"\"print(n)\n",
    "print(clientes)\n",
    "print(camiones)\n",
    "print(u)\n",
    "print(q)\n",
    "print(list_id)\"\"\""
   ]
  },
  {
   "cell_type": "code",
   "execution_count": null,
   "metadata": {},
   "outputs": [],
   "source": [
    "\"\"\"import matplotlib.pyplot as plt\n",
    "\n",
    "plt.figure(figsize=(12,5))\n",
    "plt.scatter(direccion_x,direccion_y,color=\"green\")\n",
    "\n",
    "for i in clientes:\n",
    "       plt.annotate('$q_{%d}=%d$'%(i,q[i]),(direccion_x[clientes.index(i)],direccion_y[clientes.index(i)]))\n",
    "    \n",
    "plt.plot(direccion_x[0],direccion_y[0],color='red',marker='s')\n",
    "plt.annotate('DC',(direccion_x[0],direccion_y[0]))\n",
    "\n",
    "plt.xlabel(\"Eje X\")\n",
    "plt.ylabel(\"Eje Y\")\n",
    "plt.title(\"Gráfico de Nodos | VRP\")\n",
    "\n",
    "plt.show()\"\"\"\n",
    "\n"
   ]
  },
  {
   "cell_type": "code",
   "execution_count": null,
   "metadata": {},
   "outputs": [],
   "source": [
    "\"dic_rutas[(3485642555, 4765300244)]\""
   ]
  },
  {
   "cell_type": "code",
   "execution_count": null,
   "metadata": {},
   "outputs": [],
   "source": [
    "\"\"\"\"arcos={i for i in dic_rutas.keys()}\n",
    "# esto es literal dic_rutas\n",
    "#distancia={(i,j):np.hypot(direccion_x[i]-direccion_x[j],direccion_y[i]-direccion_y[j]) \n",
    "          # for i in nodos for j in nodos if i!=j}\n",
    "arcos\"\"\""
   ]
  },
  {
   "cell_type": "code",
   "execution_count": null,
   "metadata": {},
   "outputs": [],
   "source": [
    "\"\"\"plt.figure(figsize=(12,5))\n",
    "plt.scatter(direccion_x,direccion_y,color=\"green\")\n",
    "\n",
    "for i in clientes:\n",
    "    plt.annotate('$q_{%d}$'%(i),(direccion_x[clientes.index(i)],direccion_y[clientes.index(i)]))\n",
    "    \n",
    "plt.plot(direccion_x[0],direccion_y[0],color='red',marker='s')\n",
    "plt.annotate('DC',(direccion_x[0],direccion_y[0]))\n",
    "\n",
    "for i, j in arcos:\n",
    "    plt.plot([direccion_x[n.index(i)],direccion_x[n.index(j)]],[direccion_y[n.index(i)],direccion_y[n.index(j)]],color=\"blue\",alpha=0.3)\n",
    "    #plt.annotate('C=%d'%dic_rutas[(i,j)], ((direccion_x[n.index(i)]+direccion_x[n.index(j)])/2, (direccion_y[n.index(i)]+direccion_y[n.index(j)])/2))\n",
    "plt.xlabel(\"Eje X\")\n",
    "plt.ylabel(\"Eje Y\")\n",
    "plt.title(\"Grafo completo, arcos entre todo par de nodos donde existe ruta| VRP\")\n",
    "\n",
    "\n",
    "plt.show()\"\"\""
   ]
  },
  {
   "cell_type": "markdown",
   "metadata": {},
   "source": [
    "Fuente: https://nbviewer.jupyter.org/github/CplexPython/Cplex-Python/blob/master/VRP/CVRP%20%7C%20Cplex%20%26%20Python%20.ipynb"
   ]
  },
  {
   "cell_type": "markdown",
   "metadata": {},
   "source": [
    "# Utilizando Heurísticas para resolver VRP"
   ]
  },
  {
   "cell_type": "code",
   "execution_count": null,
   "metadata": {},
   "outputs": [],
   "source": [
    "\"\"\"# Plot the shortest path\n",
    "fig, ax = ox.plot_graph_route(G, route)\"\"\""
   ]
  },
  {
   "cell_type": "code",
   "execution_count": null,
   "metadata": {},
   "outputs": [],
   "source": []
  }
 ],
 "metadata": {
  "kernelspec": {
   "display_name": "Python 3",
   "language": "python",
   "name": "python3"
  },
  "language_info": {
   "codemirror_mode": {
    "name": "ipython",
    "version": 3
   },
   "file_extension": ".py",
   "mimetype": "text/x-python",
   "name": "python",
   "nbconvert_exporter": "python",
   "pygments_lexer": "ipython3",
   "version": "3.7.8"
  }
 },
 "nbformat": 4,
 "nbformat_minor": 4
}
